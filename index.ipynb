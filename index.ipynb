{
 "cells": [
  {
   "cell_type": "code",
   "execution_count": 23,
   "id": "88c4fa17",
   "metadata": {},
   "outputs": [],
   "source": [
    "import sys\n",
    "\n",
    "sys.path.insert(0, '..')"
   ]
  },
  {
   "cell_type": "code",
   "execution_count": 24,
   "id": "1fd05e08",
   "metadata": {},
   "outputs": [],
   "source": [
    "import torch\n",
    "import torch.nn as nn\n",
    "import matplotlib.pyplot as plt\n",
    "import torchvision\n",
    "from torchvision import transforms\n",
    "from torch.utils.data import DataLoader, TensorDataset\n",
    "from typing import List"
   ]
  },
  {
   "cell_type": "code",
   "execution_count": 25,
   "id": "9b2f2629",
   "metadata": {},
   "outputs": [],
   "source": [
    "transform = transforms.Compose([transforms.ToTensor()])\n",
    "image_path = './'\n",
    "\n",
    "mnist_train_dataset = torchvision.datasets.MNIST(root=image_path, train=True, download=True, transform=transform)\n",
    "mnist_test_dataset = torchvision.datasets.MNIST(root=image_path, train=False, download=False, transform=transform)"
   ]
  },
  {
   "cell_type": "code",
   "execution_count": 26,
   "id": "b99c025a",
   "metadata": {},
   "outputs": [],
   "source": [
    "batch_size = 64\n",
    "torch.manual_seed(1)\n",
    "train_dl = DataLoader(mnist_train_dataset, batch_size=batch_size, shuffle=True)"
   ]
  },
  {
   "cell_type": "code",
   "execution_count": 27,
   "id": "e6991812",
   "metadata": {},
   "outputs": [
    {
     "data": {
      "text/plain": [
       "Sequential(\n",
       "  (0): Flatten(start_dim=1, end_dim=-1)\n",
       "  (1): Linear(in_features=784, out_features=32, bias=True)\n",
       "  (2): ReLU()\n",
       "  (3): Linear(in_features=32, out_features=16, bias=True)\n",
       "  (4): ReLU()\n",
       "  (5): Linear(in_features=16, out_features=10, bias=True)\n",
       ")"
      ]
     },
     "execution_count": 27,
     "metadata": {},
     "output_type": "execute_result"
    }
   ],
   "source": [
    "hidden_units = [32, 16]\n",
    "\n",
    "img_size = mnist_train_dataset[0][0].shape\n",
    "input_size = img_size[1] * img_size[2]\n",
    "\n",
    "assert input_size == 28 * 28\n",
    "\n",
    "all_layers: List[nn.Module] = [nn.Flatten()]\n",
    "for unit in hidden_units:\n",
    "    layer = nn.Linear(in_features=input_size, out_features=unit)\n",
    "    all_layers.append(layer)\n",
    "    all_layers.append(nn.ReLU())\n",
    "    input_size = unit\n",
    "\n",
    "output_layer = nn.Linear(in_features=hidden_units[-1], out_features=10)\n",
    "all_layers.append(output_layer)\n",
    "model = nn.Sequential(*all_layers)\n",
    "\n",
    "model"
   ]
  },
  {
   "cell_type": "code",
   "execution_count": 28,
   "id": "eb4f283e",
   "metadata": {},
   "outputs": [],
   "source": [
    "loss_fn = nn.CrossEntropyLoss()\n",
    "optimizer = torch.optim.Adam(model.parameters(), lr=.001)"
   ]
  },
  {
   "cell_type": "code",
   "execution_count": null,
   "id": "4864ed7d",
   "metadata": {},
   "outputs": [
    {
     "name": "stdout",
     "output_type": "stream",
     "text": [
      "Accuracy for epoch 0: 0.85\n",
      "Accuracy for epoch 1: 0.93\n",
      "Accuracy for epoch 2: 0.94\n",
      "Accuracy for epoch 3: 0.95\n",
      "Accuracy for epoch 4: 0.95\n",
      "Accuracy for epoch 5: 0.96\n",
      "Accuracy for epoch 6: 0.96\n",
      "Accuracy for epoch 7: 0.96\n",
      "Accuracy for epoch 8: 0.97\n",
      "Accuracy for epoch 9: 0.97\n",
      "Accuracy for epoch 10: 0.97\n",
      "Accuracy for epoch 11: 0.97\n",
      "Accuracy for epoch 12: 0.97\n",
      "Accuracy for epoch 13: 0.98\n",
      "Accuracy for epoch 14: 0.98\n",
      "Accuracy for epoch 15: 0.98\n",
      "Accuracy for epoch 16: 0.98\n",
      "Accuracy for epoch 17: 0.98\n",
      "Accuracy for epoch 18: 0.98\n",
      "Accuracy for epoch 19: 0.98\n"
     ]
    }
   ],
   "source": [
    "num_epochs = 20\n",
    "\n",
    "training_accuracy_hist = [0.0] * num_epochs\n",
    "\n",
    "for epoch in range(num_epochs):\n",
    "    epoch_training_accuracy = 0.0\n",
    "    for x_batch, y_batch in train_dl:\n",
    "        pred = model(x_batch)\n",
    "        loss = loss_fn(pred, y_batch)\n",
    "        loss.backward()\n",
    "        optimizer.step()\n",
    "        optimizer.zero_grad()\n",
    "\n",
    "        is_correct = (torch.argmax(pred, dim=1) == y_batch).float()\n",
    "        epoch_training_accuracy += is_correct.sum()\n",
    "    epoch_training_accuracy /= len(train_dl.dataset)\n",
    "    training_accuracy_hist[epoch] = epoch_training_accuracy\n",
    "    print(f\"Accuracy for epoch {epoch}: {epoch_training_accuracy:.2f}\")"
   ]
  },
  {
   "cell_type": "code",
   "execution_count": null,
   "id": "b1def452",
   "metadata": {},
   "outputs": [],
   "source": [
    "plt.xlabel('Epoch')\n",
    "plt.ylabel('Accuracy')\n",
    "\n",
    "plt.title('Accuracy over Epochs')\n",
    "plt.plot(range(num_epochs), training_accuracy_hist)\n",
    "\n",
    "plt.savefig('training_accuracy.png')"
   ]
  },
  {
   "cell_type": "code",
   "execution_count": 32,
   "id": "8e69b626",
   "metadata": {},
   "outputs": [
    {
     "name": "stdout",
     "output_type": "stream",
     "text": [
      "Test accuracy: 0.97\n"
     ]
    }
   ],
   "source": [
    "pred = model(mnist_test_dataset.data / 255.)\n",
    "is_correct = (torch.argmax(pred, dim=1) == mnist_test_dataset.targets).float()\n",
    "print(f'Test accuracy: {is_correct.mean():.2f}')"
   ]
  }
 ],
 "metadata": {
  "kernelspec": {
   "display_name": "DSP_ML",
   "language": "python",
   "name": "python3"
  },
  "language_info": {
   "codemirror_mode": {
    "name": "ipython",
    "version": 3
   },
   "file_extension": ".py",
   "mimetype": "text/x-python",
   "name": "python",
   "nbconvert_exporter": "python",
   "pygments_lexer": "ipython3",
   "version": "3.10.18"
  }
 },
 "nbformat": 4,
 "nbformat_minor": 5
}
